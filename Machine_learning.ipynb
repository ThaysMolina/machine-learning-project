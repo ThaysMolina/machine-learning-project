{
  "nbformat": 4,
  "nbformat_minor": 0,
  "metadata": {
    "colab": {
      "provenance": [],
      "authorship_tag": "ABX9TyP4rawpfHXw1RmrctB7TYVy",
      "include_colab_link": true
    },
    "kernelspec": {
      "name": "python3",
      "display_name": "Python 3"
    },
    "language_info": {
      "name": "python"
    }
  },
  "cells": [
    {
      "cell_type": "markdown",
      "metadata": {
        "id": "view-in-github",
        "colab_type": "text"
      },
      "source": [
        "<a href=\"https://colab.research.google.com/github/ThaysMolina/machine-learning-project/blob/main/Machine_learning.ipynb\" target=\"_parent\"><img src=\"https://colab.research.google.com/assets/colab-badge.svg\" alt=\"Open In Colab\"/></a>"
      ]
    },
    {
      "cell_type": "code",
      "execution_count": null,
      "metadata": {
        "id": "Yl8PvdamY4Fz"
      },
      "outputs": [],
      "source": []
    },
    {
      "cell_type": "markdown",
      "source": [
        "Nesse projeto de machine learning eu gostaria de estudar sobre o consumo de cerveja."
      ],
      "metadata": {
        "id": "CTc484RVgkxj"
      }
    },
    {
      "cell_type": "code",
      "source": [
        "from google.colab import drive\n",
        "from google.colab import auth\n",
        "from oauth2client.client import GoogleCredentials\n",
        "\n",
        "auth.authenticate_user()\n"
      ],
      "metadata": {
        "id": "9_9YtOm-Y6OY"
      },
      "execution_count": null,
      "outputs": []
    },
    {
      "cell_type": "code",
      "source": [
        "!git clone https://github.com/ThaysMolina/machine-learning-project.git\n",
        "%cd machine-learning-project\n"
      ],
      "metadata": {
        "colab": {
          "base_uri": "https://localhost:8080/"
        },
        "id": "L6XW6IYwRdwD",
        "outputId": "e4205a0b-719a-4c03-c4cd-d9565d9b851e"
      },
      "execution_count": null,
      "outputs": [
        {
          "output_type": "stream",
          "name": "stdout",
          "text": [
            "Cloning into 'machine-learning-project'...\n",
            "warning: You appear to have cloned an empty repository.\n",
            "/content/machine-learning-project\n"
          ]
        }
      ]
    },
    {
      "cell_type": "markdown",
      "source": [
        "escrever o interesse pelo assunto"
      ],
      "metadata": {
        "id": "_FgssUuqA54x"
      }
    },
    {
      "cell_type": "code",
      "source": [],
      "metadata": {
        "id": "istlUTn3BRiA"
      },
      "execution_count": null,
      "outputs": []
    }
  ]
}